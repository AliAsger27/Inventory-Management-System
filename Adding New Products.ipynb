{
 "cells": [
  {
   "cell_type": "code",
   "execution_count": 3,
   "id": "60622e00",
   "metadata": {},
   "outputs": [],
   "source": [
    "import json\n",
    "\n",
    "fd = open(\"record.json\",'r')\n",
    "r = fd.read()\n",
    "fd.close()\n",
    "\n",
    "record = json.loads(r)"
   ]
  },
  {
   "cell_type": "code",
   "execution_count": 4,
   "id": "2211bc09",
   "metadata": {},
   "outputs": [
    {
     "data": {
      "text/plain": [
       "{'1001': {'name': 'Choco Cake', 'pr': 100, 'qn': 34},\n",
       " '1002': {'name': 'Milk Cake', 'pr': 800, 'qn': 60},\n",
       " '1003': {'name': 'Cold Drink', 'pr': 85, 'qn': 50},\n",
       " '1004': {'name': 'Candy', 'pr': 5, 'qn': 950},\n",
       " '1005': {'name': 'Pen', 'pr': 20, 'qn': 100},\n",
       " '1006': {'name': 'Parle-G Biscuit', 'pr': 40, 'qn': 60},\n",
       " '1007': {'name': 'Copy', 'pr': 30, 'qn': 90},\n",
       " '1008': {'name': 'Dairy Milk', 'pr': 40, 'qn': 150},\n",
       " '1009': {'name': 'Five Star', 'pr': 20, 'qn': 65},\n",
       " '1010': {'name': 'Detergent', 'pr': 90, 'qn': 80},\n",
       " '1011': {'name': 'Vivel Soup', 'pr': 25, 'qn': 100},\n",
       " '1012': {'name': 'Amul Butter', 'pr': 60, 'qn': 70},\n",
       " '1013': {'name': 'Amul Cheese', 'pr': 80, 'qn': 110},\n",
       " '1014': {'name': 'Wheat', 'pr': 20, 'qn': 100},\n",
       " '1015': {'name': 'Rice', 'pr': 45, 'qn': 200},\n",
       " '1016': {'name': 'Bread', 'pr': 30, 'qn': 25},\n",
       " '1017': {'name': 'Chocolate Serup', 'pr': 80, 'qn': 41},\n",
       " '1018': {'name': 'Shaving Cream', 'pr': 120, 'qn': 20},\n",
       " '1019': {'name': 'Shaving Machine', 'pr': 520, 'qn': 22},\n",
       " '1020': {'name': 'Britania Biscuit', 'pr': 25, 'qn': 80},\n",
       " '1021': {'name': 'Ice Cream', 'pr': 140, 'qn': 10},\n",
       " '1022': {'name': 'Fruits', 'pr': 50, 'qn': 50},\n",
       " '1023': {'name': 'Dried Fruits', 'pr': 600, 'qn': 90},\n",
       " '1024': {'name': 'Jam', 'pr': 59, 'qn': 3},\n",
       " '1025': {'name': 'Tomato ketchup', 'pr': 20, 'qn': 29},\n",
       " '1026': {'name': 'Mix Fruit Cake', 'pr': 299, 'qn': 44},\n",
       " '1027': {'name': 'Mineral Water', 'pr': 20, 'qn': 80},\n",
       " '1028': {'name': 'Maggi', 'pr': 44, 'qn': 100},\n",
       " '1029': {'name': 'Breadsticks', 'pr': 20, 'qn': 40},\n",
       " '1030': {'name': 'Macaroni', 'pr': 50, 'qn': 20},\n",
       " '1031': {'name': 'Corn Flakes', 'pr': 55, 'qn': 10},\n",
       " '1032': {'name': 'Oat Flakes', 'pr': 66, 'qn': 50},\n",
       " '1033': {'name': 'Tea', 'pr': 65, 'qn': 50},\n",
       " '1034': {'name': 'Lays', 'pr': 20, 'qn': 67},\n",
       " '1035': {'name': 'Kurkure', 'pr': 30, 'qn': 66}}"
      ]
     },
     "execution_count": 4,
     "metadata": {},
     "output_type": "execute_result"
    }
   ],
   "source": [
    "record"
   ]
  },
  {
   "cell_type": "code",
   "execution_count": 5,
   "id": "f2557cce",
   "metadata": {},
   "outputs": [
    {
     "name": "stdout",
     "output_type": "stream",
     "text": [
      "Enter product id:1036\n",
      "Enter name:milk\n",
      "Enter price:43\n",
      "Enter quantity:20\n"
     ]
    }
   ],
   "source": [
    "prod_id = str(input(\"Enter product id:\"))\n",
    "name = str(input(\"Enter name:\"))\n",
    "pr = int(input(\"Enter price:\"))\n",
    "qn = int(input(\"Enter quantity:\"))\n",
    "\n",
    "record[prod_id] = {'name': name, 'pr': pr, 'qn': qn}\n",
    "\n",
    "js = json.dumps(record)\n",
    "\n",
    "fd = open(\"record.json\",'w')\n",
    "fd.write(js)\n",
    "fd.close()"
   ]
  },
  {
   "cell_type": "code",
   "execution_count": 6,
   "id": "9f04576e",
   "metadata": {},
   "outputs": [
    {
     "data": {
      "text/plain": [
       "{'1001': {'name': 'Choco Cake', 'pr': 100, 'qn': 34},\n",
       " '1002': {'name': 'Milk Cake', 'pr': 800, 'qn': 60},\n",
       " '1003': {'name': 'Cold Drink', 'pr': 85, 'qn': 50},\n",
       " '1004': {'name': 'Candy', 'pr': 5, 'qn': 950},\n",
       " '1005': {'name': 'Pen', 'pr': 20, 'qn': 100},\n",
       " '1006': {'name': 'Parle-G Biscuit', 'pr': 40, 'qn': 60},\n",
       " '1007': {'name': 'Copy', 'pr': 30, 'qn': 90},\n",
       " '1008': {'name': 'Dairy Milk', 'pr': 40, 'qn': 150},\n",
       " '1009': {'name': 'Five Star', 'pr': 20, 'qn': 65},\n",
       " '1010': {'name': 'Detergent', 'pr': 90, 'qn': 80},\n",
       " '1011': {'name': 'Vivel Soup', 'pr': 25, 'qn': 100},\n",
       " '1012': {'name': 'Amul Butter', 'pr': 60, 'qn': 70},\n",
       " '1013': {'name': 'Amul Cheese', 'pr': 80, 'qn': 110},\n",
       " '1014': {'name': 'Wheat', 'pr': 20, 'qn': 100},\n",
       " '1015': {'name': 'Rice', 'pr': 45, 'qn': 200},\n",
       " '1016': {'name': 'Bread', 'pr': 30, 'qn': 25},\n",
       " '1017': {'name': 'Chocolate Serup', 'pr': 80, 'qn': 41},\n",
       " '1018': {'name': 'Shaving Cream', 'pr': 120, 'qn': 20},\n",
       " '1019': {'name': 'Shaving Machine', 'pr': 520, 'qn': 22},\n",
       " '1020': {'name': 'Britania Biscuit', 'pr': 25, 'qn': 80},\n",
       " '1021': {'name': 'Ice Cream', 'pr': 140, 'qn': 10},\n",
       " '1022': {'name': 'Fruits', 'pr': 50, 'qn': 50},\n",
       " '1023': {'name': 'Dried Fruits', 'pr': 600, 'qn': 90},\n",
       " '1024': {'name': 'Jam', 'pr': 59, 'qn': 3},\n",
       " '1025': {'name': 'Tomato ketchup', 'pr': 20, 'qn': 29},\n",
       " '1026': {'name': 'Mix Fruit Cake', 'pr': 299, 'qn': 44},\n",
       " '1027': {'name': 'Mineral Water', 'pr': 20, 'qn': 80},\n",
       " '1028': {'name': 'Maggi', 'pr': 44, 'qn': 100},\n",
       " '1029': {'name': 'Breadsticks', 'pr': 20, 'qn': 40},\n",
       " '1030': {'name': 'Macaroni', 'pr': 50, 'qn': 20},\n",
       " '1031': {'name': 'Corn Flakes', 'pr': 55, 'qn': 10},\n",
       " '1032': {'name': 'Oat Flakes', 'pr': 66, 'qn': 50},\n",
       " '1033': {'name': 'Tea', 'pr': 65, 'qn': 50},\n",
       " '1034': {'name': 'Lays', 'pr': 20, 'qn': 67},\n",
       " '1035': {'name': 'Kurkure', 'pr': 30, 'qn': 66},\n",
       " '1036': {'name': 'milk', 'pr': 43, 'qn': 20}}"
      ]
     },
     "execution_count": 6,
     "metadata": {},
     "output_type": "execute_result"
    }
   ],
   "source": [
    "record"
   ]
  },
  {
   "cell_type": "code",
   "execution_count": null,
   "id": "c53c5751",
   "metadata": {},
   "outputs": [],
   "source": []
  }
 ],
 "metadata": {
  "kernelspec": {
   "display_name": "Python 3",
   "language": "python",
   "name": "python3"
  },
  "language_info": {
   "codemirror_mode": {
    "name": "ipython",
    "version": 3
   },
   "file_extension": ".py",
   "mimetype": "text/x-python",
   "name": "python",
   "nbconvert_exporter": "python",
   "pygments_lexer": "ipython3",
   "version": "3.8.8"
  }
 },
 "nbformat": 4,
 "nbformat_minor": 5
}
