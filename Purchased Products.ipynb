{
 "cells": [
  {
   "cell_type": "code",
   "execution_count": 7,
   "id": "37ef9ce6",
   "metadata": {},
   "outputs": [],
   "source": [
    "import json\n",
    "\n",
    "fd = open(\"record.json\",'r')\n",
    "r = fd.read()\n",
    "fd.close()\n",
    "\n",
    "record = json.loads(r)"
   ]
  },
  {
   "cell_type": "code",
   "execution_count": 8,
   "id": "242723e7",
   "metadata": {},
   "outputs": [
    {
     "data": {
      "text/plain": [
       "{'1001': {'name': 'Choco Cake', 'pr': 100, 'qn': 34},\n",
       " '1002': {'name': 'Milk Cake', 'pr': 800, 'qn': 60},\n",
       " '1003': {'name': 'Cold Drink', 'pr': 85, 'qn': 50},\n",
       " '1004': {'name': 'Candy', 'pr': 5, 'qn': 950},\n",
       " '1005': {'name': 'Pen', 'pr': 20, 'qn': 100},\n",
       " '1006': {'name': 'Parle-G Biscuit', 'pr': 40, 'qn': 60},\n",
       " '1007': {'name': 'Copy', 'pr': 30, 'qn': 90},\n",
       " '1008': {'name': 'Dairy Milk', 'pr': 40, 'qn': 150},\n",
       " '1009': {'name': 'Five Star', 'pr': 20, 'qn': 65},\n",
       " '1010': {'name': 'Detergent', 'pr': 90, 'qn': 80},\n",
       " '1011': {'name': 'Vivel Soup', 'pr': 25, 'qn': 100},\n",
       " '1012': {'name': 'Amul Butter', 'pr': 60, 'qn': 70},\n",
       " '1013': {'name': 'Amul Cheese', 'pr': 80, 'qn': 110},\n",
       " '1014': {'name': 'Wheat', 'pr': 20, 'qn': 100},\n",
       " '1015': {'name': 'Rice', 'pr': 45, 'qn': 200},\n",
       " '1016': {'name': 'Bread', 'pr': 30, 'qn': 25},\n",
       " '1017': {'name': 'Chocolate Serup', 'pr': 80, 'qn': 41},\n",
       " '1018': {'name': 'Shaving Cream', 'pr': 120, 'qn': 20},\n",
       " '1019': {'name': 'Shaving Machine', 'pr': 520, 'qn': 22},\n",
       " '1020': {'name': 'Britania Biscuit', 'pr': 25, 'qn': 80},\n",
       " '1021': {'name': 'Ice Cream', 'pr': 140, 'qn': 10},\n",
       " '1022': {'name': 'Fruits', 'pr': 50, 'qn': 50},\n",
       " '1023': {'name': 'Dried Fruits', 'pr': 600, 'qn': 90},\n",
       " '1024': {'name': 'Jam', 'pr': 59, 'qn': 3},\n",
       " '1025': {'name': 'Tomato ketchup', 'pr': 20, 'qn': 29},\n",
       " '1026': {'name': 'Mix Fruit Cake', 'pr': 299, 'qn': 44},\n",
       " '1027': {'name': 'Mineral Water', 'pr': 20, 'qn': 80},\n",
       " '1028': {'name': 'Maggi', 'pr': 44, 'qn': 100},\n",
       " '1029': {'name': 'Breadsticks', 'pr': 20, 'qn': 40},\n",
       " '1030': {'name': 'Macaroni', 'pr': 50, 'qn': 20},\n",
       " '1031': {'name': 'Corn Flakes', 'pr': 55, 'qn': 10},\n",
       " '1032': {'name': 'Oat Flakes', 'pr': 66, 'qn': 50},\n",
       " '1033': {'name': 'Tea', 'pr': 65, 'qn': 50},\n",
       " '1034': {'name': 'Lays', 'pr': 20, 'qn': 67},\n",
       " '1035': {'name': 'Kurkure', 'pr': 30, 'qn': 66},\n",
       " '1036': {'name': 'milk', 'pr': 43, 'qn': 20}}"
      ]
     },
     "execution_count": 8,
     "metadata": {},
     "output_type": "execute_result"
    }
   ],
   "source": [
    "record"
   ]
  },
  {
   "cell_type": "code",
   "execution_count": 9,
   "id": "fb10126d",
   "metadata": {},
   "outputs": [
    {
     "name": "stdout",
     "output_type": "stream",
     "text": [
      "Enter the product_Id: 1035\n",
      "Enter the quantity: 10\n",
      "Product:  Kurkure\n",
      "Price:  30\n",
      "Billing Amount:  300\n"
     ]
    }
   ],
   "source": [
    "ui_prod  = str(input(\"Enter the product_Id: \"))\n",
    "ui_quant = int(input(\"Enter the quantity: \"))\n",
    "\n",
    "\n",
    "print(\"Product: \", record[ui_prod]['name'])\n",
    "print(\"Price: \", record[ui_prod]['pr'])\n",
    "print(\"Billing Amount: \", record[ui_prod]['pr'] * ui_quant)\n",
    "\n",
    "record[ui_prod]['qn'] = record[ui_prod]['qn'] - ui_quant"
   ]
  },
  {
   "cell_type": "markdown",
   "id": "6eb31677",
   "metadata": {},
   "source": [
    "Update Inventory"
   ]
  },
  {
   "cell_type": "code",
   "execution_count": 11,
   "id": "7908ec34",
   "metadata": {},
   "outputs": [],
   "source": [
    "js = json.dumps(record)\n",
    "\n",
    "fd = open(\"record.json\",'w')\n",
    "fd.write(js)\n",
    "fd.close()"
   ]
  },
  {
   "cell_type": "markdown",
   "id": "11762020",
   "metadata": {},
   "source": [
    "Sales JSON"
   ]
  },
  {
   "cell_type": "code",
   "execution_count": 13,
   "id": "b7436109",
   "metadata": {},
   "outputs": [],
   "source": [
    "sales = {1 : {'prod' : ui_prod, 'qn' : ui_quant, 'amount': record[ui_prod]['pr'] * ui_quant},\n",
    "         2 : {'prod' : ui_prod, 'qn' : ui_quant, 'amount': record[ui_prod]['pr'] * ui_quant},\n",
    "         3 : {'prod' : ui_prod, 'qn' : ui_quant, 'amount': record[ui_prod]['pr'] * ui_quant}}"
   ]
  },
  {
   "cell_type": "code",
   "execution_count": 14,
   "id": "567a4bf5",
   "metadata": {},
   "outputs": [],
   "source": [
    "sale = json.dumps(sales)"
   ]
  },
  {
   "cell_type": "code",
   "execution_count": 15,
   "id": "5d539104",
   "metadata": {},
   "outputs": [],
   "source": [
    "fd = open(\"sales.json\",'w')\n",
    "fd.write(sale)\n",
    "fd.close()"
   ]
  },
  {
   "cell_type": "code",
   "execution_count": null,
   "id": "bd2ff665",
   "metadata": {},
   "outputs": [],
   "source": []
  }
 ],
 "metadata": {
  "kernelspec": {
   "display_name": "Python 3",
   "language": "python",
   "name": "python3"
  },
  "language_info": {
   "codemirror_mode": {
    "name": "ipython",
    "version": 3
   },
   "file_extension": ".py",
   "mimetype": "text/x-python",
   "name": "python",
   "nbconvert_exporter": "python",
   "pygments_lexer": "ipython3",
   "version": "3.8.8"
  }
 },
 "nbformat": 4,
 "nbformat_minor": 5
}
